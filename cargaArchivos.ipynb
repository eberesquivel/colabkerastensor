{
  "nbformat": 4,
  "nbformat_minor": 0,
  "metadata": {
    "colab": {
      "name": "Untitled0.ipynb",
      "provenance": [],
      "collapsed_sections": [],
      "authorship_tag": "ABX9TyMIEZ4D8x78+pspREph7sIO",
      "include_colab_link": true
    },
    "kernelspec": {
      "name": "python3",
      "display_name": "Python 3"
    }
  },
  "cells": [
    {
      "cell_type": "markdown",
      "metadata": {
        "id": "view-in-github",
        "colab_type": "text"
      },
      "source": [
        "<a href=\"https://colab.research.google.com/github/eberesquivel/pandas/blob/master/cargaArchivos.ipynb\" target=\"_parent\"><img src=\"https://colab.research.google.com/assets/colab-badge.svg\" alt=\"Open In Colab\"/></a>"
      ]
    },
    {
      "cell_type": "code",
      "metadata": {
        "id": "3DjaRcNJ-Jfs",
        "colab_type": "code",
        "colab": {
          "base_uri": "https://localhost:8080/",
          "height": 241
        },
        "outputId": "64762070-9418-4260-c065-cd62f766f009"
      },
      "source": [
        "import pandas as pd\n",
        "url = 'https://raw.githubusercontent.com/eberesquivel/spotg-ghostazure/master/1-csv.csv'\n",
        "df = pd.read_csv(url)\n",
        "print(df.head(9))"
      ],
      "execution_count": 3,
      "outputs": [
        {
          "output_type": "stream",
          "text": [
            "   Year  ...                             Industry_code_ANZSIC06\n",
            "0  2019  ...  ANZSIC06 divisions A-S (excluding classes K633...\n",
            "1  2019  ...  ANZSIC06 divisions A-S (excluding classes K633...\n",
            "2  2019  ...  ANZSIC06 divisions A-S (excluding classes K633...\n",
            "3  2019  ...  ANZSIC06 divisions A-S (excluding classes K633...\n",
            "4  2019  ...  ANZSIC06 divisions A-S (excluding classes K633...\n",
            "5  2019  ...  ANZSIC06 divisions A-S (excluding classes K633...\n",
            "6  2019  ...  ANZSIC06 divisions A-S (excluding classes K633...\n",
            "7  2019  ...  ANZSIC06 divisions A-S (excluding classes K633...\n",
            "8  2019  ...  ANZSIC06 divisions A-S (excluding classes K633...\n",
            "\n",
            "[9 rows x 10 columns]\n"
          ],
          "name": "stdout"
        }
      ]
    }
  ]
}