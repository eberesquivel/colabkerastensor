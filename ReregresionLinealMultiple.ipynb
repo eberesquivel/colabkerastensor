{
  "nbformat": 4,
  "nbformat_minor": 0,
  "metadata": {
    "colab": {
      "name": "ReregresionLinealMultiple.ipynb",
      "provenance": [],
      "authorship_tag": "ABX9TyNraoSu8WuNjUfrWzb8ppID",
      "include_colab_link": true
    },
    "kernelspec": {
      "name": "python3",
      "display_name": "Python 3"
    }
  },
  "cells": [
    {
      "cell_type": "markdown",
      "metadata": {
        "id": "view-in-github",
        "colab_type": "text"
      },
      "source": [
        "<a href=\"https://colab.research.google.com/github/eberesquivel/pandas/blob/master/ReregresionLinealMultiple.ipynb\" target=\"_parent\"><img src=\"https://colab.research.google.com/assets/colab-badge.svg\" alt=\"Open In Colab\"/></a>"
      ]
    },
    {
      "cell_type": "code",
      "metadata": {
        "id": "SyYT2QTtl9b3",
        "colab_type": "code",
        "colab": {
          "resources": {
            "http://localhost:8080/nbextensions/google.colab/files.js": {
              "data": "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",
              "ok": true,
              "headers": [
                [
                  "content-type",
                  "application/javascript"
                ]
              ],
              "status": 200,
              "status_text": "OK"
            }
          },
          "base_uri": "https://localhost:8080/",
          "height": 112
        },
        "outputId": "884c44dc-9a77-449c-fd89-9cc8344852bc"
      },
      "source": [
        "from google.colab import files \n",
        "files.upload()"
      ],
      "execution_count": 1,
      "outputs": [
        {
          "output_type": "display_data",
          "data": {
            "text/html": [
              "\n",
              "     <input type=\"file\" id=\"files-64faea98-6c8b-4e90-9c9a-cbd0589dade7\" name=\"files[]\" multiple disabled\n",
              "        style=\"border:none\" />\n",
              "     <output id=\"result-64faea98-6c8b-4e90-9c9a-cbd0589dade7\">\n",
              "      Upload widget is only available when the cell has been executed in the\n",
              "      current browser session. Please rerun this cell to enable.\n",
              "      </output>\n",
              "      <script src=\"/nbextensions/google.colab/files.js\"></script> "
            ],
            "text/plain": [
              "<IPython.core.display.HTML object>"
            ]
          },
          "metadata": {
            "tags": []
          }
        },
        {
          "output_type": "stream",
          "text": [
            "Saving MultipleLinear.csv to MultipleLinear (1).csv\n"
          ],
          "name": "stdout"
        },
        {
          "output_type": "execute_result",
          "data": {
            "text/plain": [
              "{'MultipleLinear.csv': b'\"y\",\"x1\",\"x2\"\\n16.68,7,560\\n11.5,3,220\\n12.03,3,340\\n14.88,4,80\\n13.75,6,150\\n18.11,7,330\\n8,2,110\\n17.83,7,210\\n79.24,30,1460\\n21.5,5,605\\n40.33,16,688\\n21,10,215\\n13.5,4,255\\n19.75,6,462\\n24,9,448\\n29,10,776\\n15.35,6,200\\n19,7,132\\n9.5,3,36\\n35.1,17,770\\n17.9,10,140\\n52.32,26,810\\n18.75,9,450\\n19.83,8,635\\n10.75,4,150\\n'}"
            ]
          },
          "metadata": {
            "tags": []
          },
          "execution_count": 1
        }
      ]
    },
    {
      "cell_type": "code",
      "metadata": {
        "id": "PH5F1zC0rhai",
        "colab_type": "code",
        "colab": {
          "base_uri": "https://localhost:8080/",
          "height": 36
        },
        "outputId": "810e73d6-ea09-48f9-f67d-6c6bb201af9a"
      },
      "source": [
        "import pandas as pd\n",
        "pd.__version__"
      ],
      "execution_count": 2,
      "outputs": [
        {
          "output_type": "execute_result",
          "data": {
            "application/vnd.google.colaboratory.intrinsic": {
              "type": "string"
            },
            "text/plain": [
              "'1.0.5'"
            ]
          },
          "metadata": {
            "tags": []
          },
          "execution_count": 2
        }
      ]
    },
    {
      "cell_type": "markdown",
      "metadata": {
        "id": "1EMfXVvErvzD",
        "colab_type": "text"
      },
      "source": [
        "#**Regresión Lineal Multiple: Ejemplo mínimo**\n"
      ]
    },
    {
      "cell_type": "code",
      "metadata": {
        "id": "OL54GVGasCFA",
        "colab_type": "code",
        "colab": {
          "base_uri": "https://localhost:8080/",
          "height": 516
        },
        "outputId": "ae24f941-24fe-4742-a5b0-dc54cf1787d4"
      },
      "source": [
        "import pandas as pd\n",
        "df = pd.read_csv('MultipleLinear.csv')\n",
        "print (df)\n",
        "print (df.columns)"
      ],
      "execution_count": 3,
      "outputs": [
        {
          "output_type": "stream",
          "text": [
            "        y  x1    x2\n",
            "0   16.68   7   560\n",
            "1   11.50   3   220\n",
            "2   12.03   3   340\n",
            "3   14.88   4    80\n",
            "4   13.75   6   150\n",
            "5   18.11   7   330\n",
            "6    8.00   2   110\n",
            "7   17.83   7   210\n",
            "8   79.24  30  1460\n",
            "9   21.50   5   605\n",
            "10  40.33  16   688\n",
            "11  21.00  10   215\n",
            "12  13.50   4   255\n",
            "13  19.75   6   462\n",
            "14  24.00   9   448\n",
            "15  29.00  10   776\n",
            "16  15.35   6   200\n",
            "17  19.00   7   132\n",
            "18   9.50   3    36\n",
            "19  35.10  17   770\n",
            "20  17.90  10   140\n",
            "21  52.32  26   810\n",
            "22  18.75   9   450\n",
            "23  19.83   8   635\n",
            "24  10.75   4   150\n",
            "Index(['y', 'x1', 'x2'], dtype='object')\n"
          ],
          "name": "stdout"
        }
      ]
    },
    {
      "cell_type": "code",
      "metadata": {
        "id": "kO6WF9pKtMiY",
        "colab_type": "code",
        "colab": {}
      },
      "source": [
        "dataset = df.values"
      ],
      "execution_count": 4,
      "outputs": []
    },
    {
      "cell_type": "code",
      "metadata": {
        "id": "59j76FhKtUA0",
        "colab_type": "code",
        "colab": {
          "base_uri": "https://localhost:8080/",
          "height": 479
        },
        "outputId": "db4dc2fa-f7a7-4b6f-e17a-2498bb2a9f45"
      },
      "source": [
        "print(dataset)"
      ],
      "execution_count": 5,
      "outputs": [
        {
          "output_type": "stream",
          "text": [
            "[[  16.68    7.    560.  ]\n",
            " [  11.5     3.    220.  ]\n",
            " [  12.03    3.    340.  ]\n",
            " [  14.88    4.     80.  ]\n",
            " [  13.75    6.    150.  ]\n",
            " [  18.11    7.    330.  ]\n",
            " [   8.      2.    110.  ]\n",
            " [  17.83    7.    210.  ]\n",
            " [  79.24   30.   1460.  ]\n",
            " [  21.5     5.    605.  ]\n",
            " [  40.33   16.    688.  ]\n",
            " [  21.     10.    215.  ]\n",
            " [  13.5     4.    255.  ]\n",
            " [  19.75    6.    462.  ]\n",
            " [  24.      9.    448.  ]\n",
            " [  29.     10.    776.  ]\n",
            " [  15.35    6.    200.  ]\n",
            " [  19.      7.    132.  ]\n",
            " [   9.5     3.     36.  ]\n",
            " [  35.1    17.    770.  ]\n",
            " [  17.9    10.    140.  ]\n",
            " [  52.32   26.    810.  ]\n",
            " [  18.75    9.    450.  ]\n",
            " [  19.83    8.    635.  ]\n",
            " [  10.75    4.    150.  ]]\n"
          ],
          "name": "stdout"
        }
      ]
    },
    {
      "cell_type": "markdown",
      "metadata": {
        "id": "qTw_ZVkqtnzU",
        "colab_type": "text"
      },
      "source": [
        "**Separar los valores en X,Y**\n",
        "\n",
        "X.  Características(X1,X2)\n",
        "\n",
        "Y. Variable a predecir\n",
        "\n",
        "\n"
      ]
    },
    {
      "cell_type": "code",
      "metadata": {
        "id": "NxDbJRwyuPYh",
        "colab_type": "code",
        "colab": {}
      },
      "source": [
        "X = dataset[:,1:3]\n",
        "Y = dataset[:,0]"
      ],
      "execution_count": 6,
      "outputs": []
    },
    {
      "cell_type": "code",
      "metadata": {
        "id": "Vyi132UjuoAT",
        "colab_type": "code",
        "colab": {
          "base_uri": "https://localhost:8080/",
          "height": 72
        },
        "outputId": "d31cad9b-1351-4ea8-ec18-f79c9d402885"
      },
      "source": [
        "print(Y)"
      ],
      "execution_count": 7,
      "outputs": [
        {
          "output_type": "stream",
          "text": [
            "[16.68 11.5  12.03 14.88 13.75 18.11  8.   17.83 79.24 21.5  40.33 21.\n",
            " 13.5  19.75 24.   29.   15.35 19.    9.5  35.1  17.9  52.32 18.75 19.83\n",
            " 10.75]\n"
          ],
          "name": "stdout"
        }
      ]
    },
    {
      "cell_type": "markdown",
      "metadata": {
        "id": "sNJTvkAuu5wS",
        "colab_type": "text"
      },
      "source": [
        "**Importar KERAS**"
      ]
    },
    {
      "cell_type": "code",
      "metadata": {
        "id": "yz2LHCLUu9bq",
        "colab_type": "code",
        "colab": {
          "base_uri": "https://localhost:8080/",
          "height": 35
        },
        "outputId": "42ba292f-2ab2-47ca-ddcb-3c108b91e331"
      },
      "source": [
        "import tensorflow as tf\n",
        "from tensorflow import keras\n",
        "from tensorflow.keras import layers\n",
        "print(tf.__version__)"
      ],
      "execution_count": 8,
      "outputs": [
        {
          "output_type": "stream",
          "text": [
            "2.2.0\n"
          ],
          "name": "stdout"
        }
      ]
    },
    {
      "cell_type": "markdown",
      "metadata": {
        "id": "xGpKyawtvTC5",
        "colab_type": "text"
      },
      "source": [
        "**Modelo**\n",
        "\n",
        "\n",
        "---\n",
        "**Capas ocultas**\n",
        "Si se tienen dos o mas capas escondidas se le conoce como red neuronal produnda \n",
        "####Funcion de activacion: Calcula la informacion de salida de una neurona\n",
        "**One epoch: Una pasada hacia adelande y hacia atas para todos lo valores de entrenamiento**\n",
        "######Loss: Es la penalización al modelo por una mala predicción\n",
        "######mse: cuadrado de la media del error\n",
        "######mae: Error absoluto medio\n",
        "######learning_rate(Taza de aprendizaje) Controla que tan rápido se adapta el modelo al problema\n",
        "*Valores menores de aprendizaje requieren mas epochs ya que se hacen cambios mas peque;os en los pesos, en cada actualizacion*\n"
      ]
    },
    {
      "cell_type": "code",
      "metadata": {
        "id": "qTr7mifePIol",
        "colab_type": "code",
        "colab": {}
      },
      "source": [
        "def build_model():\n",
        "  model = keras.Sequential([\n",
        "      layers.Dense(64, activation='relu',input_shape=[2]),\n",
        "      layers.Dense(64, activation='relu'),\n",
        "      layers.Dense(1)\n",
        "  ])\n",
        "\n",
        "  optimizer = tf.keras.optimizers.RMSprop(learning_rate=0.001)\n",
        "\n",
        "  model.compile(loss='mse',\n",
        "                optimizer = optimizer,\n",
        "                metrics=['mae','mse'])\n",
        "  return model"
      ],
      "execution_count": 9,
      "outputs": []
    },
    {
      "cell_type": "code",
      "metadata": {
        "id": "LucXGB0fVoU9",
        "colab_type": "code",
        "colab": {}
      },
      "source": [
        "model = build_model()"
      ],
      "execution_count": 10,
      "outputs": []
    },
    {
      "cell_type": "code",
      "metadata": {
        "id": "rWyw7Aj_aRfj",
        "colab_type": "code",
        "colab": {
          "base_uri": "https://localhost:8080/",
          "height": 405
        },
        "outputId": "7d74383b-730e-4b55-fd0a-d66790a3efbb"
      },
      "source": [
        "model.fit(X,Y,epochs=10,verbose=1)"
      ],
      "execution_count": 11,
      "outputs": [
        {
          "output_type": "stream",
          "text": [
            "Epoch 1/10\n",
            "1/1 [==============================] - 0s 2ms/step - loss: 63.8246 - mae: 6.7071 - mse: 63.8246\n",
            "Epoch 2/10\n",
            "1/1 [==============================] - 0s 3ms/step - loss: 1155.0518 - mae: 28.0010 - mse: 1155.0518\n",
            "Epoch 3/10\n",
            "1/1 [==============================] - 0s 1ms/step - loss: 60.8939 - mae: 6.7279 - mse: 60.8939\n",
            "Epoch 4/10\n",
            "1/1 [==============================] - 0s 2ms/step - loss: 61.0265 - mae: 6.6267 - mse: 61.0265\n",
            "Epoch 5/10\n",
            "1/1 [==============================] - 0s 1ms/step - loss: 61.0393 - mae: 6.7404 - mse: 61.0393\n",
            "Epoch 6/10\n",
            "1/1 [==============================] - 0s 2ms/step - loss: 60.0475 - mae: 6.6304 - mse: 60.0475\n",
            "Epoch 7/10\n",
            "1/1 [==============================] - 0s 2ms/step - loss: 59.6862 - mae: 6.6529 - mse: 59.6862\n",
            "Epoch 8/10\n",
            "1/1 [==============================] - 0s 2ms/step - loss: 59.3685 - mae: 6.6180 - mse: 59.3685\n",
            "Epoch 9/10\n",
            "1/1 [==============================] - 0s 2ms/step - loss: 58.7051 - mae: 6.5941 - mse: 58.7051\n",
            "Epoch 10/10\n",
            "1/1 [==============================] - 0s 2ms/step - loss: 58.4406 - mae: 6.5785 - mse: 58.4406\n"
          ],
          "name": "stdout"
        },
        {
          "output_type": "execute_result",
          "data": {
            "text/plain": [
              "<tensorflow.python.keras.callbacks.History at 0x7f5f289b1a58>"
            ]
          },
          "metadata": {
            "tags": []
          },
          "execution_count": 11
        }
      ]
    },
    {
      "cell_type": "markdown",
      "metadata": {
        "id": "LixC-Pd6HWZb",
        "colab_type": "text"
      },
      "source": [
        "# Opciones para verbose :*0 = Silent , 1 = Barra de avance, 2 = Una línea por epoch*"
      ]
    },
    {
      "cell_type": "code",
      "metadata": {
        "id": "yMfA8SIhH6oT",
        "colab_type": "code",
        "colab": {
          "base_uri": "https://localhost:8080/",
          "height": 405
        },
        "outputId": "704a864c-1540-4f96-9cf3-b8f34e140b9d"
      },
      "source": [
        "model.fit(X,Y,epochs=10,verbose=1)"
      ],
      "execution_count": 12,
      "outputs": [
        {
          "output_type": "stream",
          "text": [
            "Epoch 1/10\n",
            "1/1 [==============================] - 0s 2ms/step - loss: 58.3132 - mae: 6.5726 - mse: 58.3132\n",
            "Epoch 2/10\n",
            "1/1 [==============================] - 0s 4ms/step - loss: 58.1876 - mae: 6.5656 - mse: 58.1876\n",
            "Epoch 3/10\n",
            "1/1 [==============================] - 0s 1ms/step - loss: 58.0683 - mae: 6.5600 - mse: 58.0683\n",
            "Epoch 4/10\n",
            "1/1 [==============================] - 0s 1ms/step - loss: 57.9599 - mae: 6.5532 - mse: 57.9599\n",
            "Epoch 5/10\n",
            "1/1 [==============================] - 0s 2ms/step - loss: 57.8498 - mae: 6.5486 - mse: 57.8498\n",
            "Epoch 6/10\n",
            "1/1 [==============================] - 0s 2ms/step - loss: 57.7414 - mae: 6.5409 - mse: 57.7414\n",
            "Epoch 7/10\n",
            "1/1 [==============================] - 0s 2ms/step - loss: 57.6292 - mae: 6.5376 - mse: 57.6292\n",
            "Epoch 8/10\n",
            "1/1 [==============================] - 0s 2ms/step - loss: 57.5135 - mae: 6.5272 - mse: 57.5135\n",
            "Epoch 9/10\n",
            "1/1 [==============================] - 0s 2ms/step - loss: 57.3951 - mae: 6.5277 - mse: 57.3951\n",
            "Epoch 10/10\n",
            "1/1 [==============================] - 0s 2ms/step - loss: 57.2785 - mae: 6.5083 - mse: 57.2785\n"
          ],
          "name": "stdout"
        },
        {
          "output_type": "execute_result",
          "data": {
            "text/plain": [
              "<tensorflow.python.keras.callbacks.History at 0x7f5f1cee90b8>"
            ]
          },
          "metadata": {
            "tags": []
          },
          "execution_count": 12
        }
      ]
    },
    {
      "cell_type": "markdown",
      "metadata": {
        "id": "WJxHNJ7NO-en",
        "colab_type": "text"
      },
      "source": [
        "**modulo tfdocs.EpochDots**\n",
        "######Imprime solamente un punto por cada epoch y los metricos cada 100 epochs\n",
        "######Es necesario instalar modulo tensoflow_docs"
      ]
    },
    {
      "cell_type": "code",
      "metadata": {
        "id": "RvVllCvxPcvJ",
        "colab_type": "code",
        "colab": {
          "base_uri": "https://localhost:8080/",
          "height": 314
        },
        "outputId": "a1916809-31bf-4cc4-c533-d77a1ed0191a"
      },
      "source": [
        "!pip install git+https://github.com/tensorflow/docs"
      ],
      "execution_count": 13,
      "outputs": [
        {
          "output_type": "stream",
          "text": [
            "Collecting git+https://github.com/tensorflow/docs\n",
            "  Cloning https://github.com/tensorflow/docs to /tmp/pip-req-build-ymhpxjjz\n",
            "  Running command git clone -q https://github.com/tensorflow/docs /tmp/pip-req-build-ymhpxjjz\n",
            "Requirement already satisfied (use --upgrade to upgrade): tensorflow-docs===0.0.0a610a0dfdbc3aa8b6ede00aa698b20ede1bfbc6a- from git+https://github.com/tensorflow/docs in /usr/local/lib/python3.6/dist-packages\n",
            "Requirement already satisfied: astor in /usr/local/lib/python3.6/dist-packages (from tensorflow-docs===0.0.0a610a0dfdbc3aa8b6ede00aa698b20ede1bfbc6a-) (0.8.1)\n",
            "Requirement already satisfied: absl-py in /usr/local/lib/python3.6/dist-packages (from tensorflow-docs===0.0.0a610a0dfdbc3aa8b6ede00aa698b20ede1bfbc6a-) (0.9.0)\n",
            "Requirement already satisfied: protobuf in /usr/local/lib/python3.6/dist-packages (from tensorflow-docs===0.0.0a610a0dfdbc3aa8b6ede00aa698b20ede1bfbc6a-) (3.12.2)\n",
            "Requirement already satisfied: pyyaml in /usr/local/lib/python3.6/dist-packages (from tensorflow-docs===0.0.0a610a0dfdbc3aa8b6ede00aa698b20ede1bfbc6a-) (3.13)\n",
            "Requirement already satisfied: six in /usr/local/lib/python3.6/dist-packages (from absl-py->tensorflow-docs===0.0.0a610a0dfdbc3aa8b6ede00aa698b20ede1bfbc6a-) (1.12.0)\n",
            "Requirement already satisfied: setuptools in /usr/local/lib/python3.6/dist-packages (from protobuf->tensorflow-docs===0.0.0a610a0dfdbc3aa8b6ede00aa698b20ede1bfbc6a-) (49.1.0)\n",
            "Building wheels for collected packages: tensorflow-docs\n",
            "  Building wheel for tensorflow-docs (setup.py) ... \u001b[?25l\u001b[?25hdone\n",
            "  Created wheel for tensorflow-docs: filename=tensorflow_docs-0.0.0a610a0dfdbc3aa8b6ede00aa698b20ede1bfbc6a_-cp36-none-any.whl size=124951 sha256=184615bb6fc659f46c8214106333ff60d70426417517c778ae55aee9a0eb8cc8\n",
            "  Stored in directory: /tmp/pip-ephem-wheel-cache-fmd70ml0/wheels/eb/1b/35/fce87697be00d2fc63e0b4b395b0d9c7e391a10e98d9a0d97f\n",
            "Successfully built tensorflow-docs\n"
          ],
          "name": "stdout"
        }
      ]
    },
    {
      "cell_type": "markdown",
      "metadata": {
        "id": "lhwR6TMZPzt9",
        "colab_type": "text"
      },
      "source": [
        "**Importar el modulo tensorflow_docs**"
      ]
    },
    {
      "cell_type": "code",
      "metadata": {
        "id": "E9fOs0DxP4dB",
        "colab_type": "code",
        "colab": {}
      },
      "source": [
        "import tensorflow_docs as tfdocs\n",
        "import tensorflow_docs.modeling"
      ],
      "execution_count": 14,
      "outputs": []
    },
    {
      "cell_type": "code",
      "metadata": {
        "id": "GbKrdS2EQa-W",
        "colab_type": "code",
        "colab": {
          "base_uri": "https://localhost:8080/",
          "height": 405
        },
        "outputId": "af573a74-1719-4b28-b66c-2907cbbe7c82"
      },
      "source": [
        "EPOCHS = 1000\n",
        "history = model.fit(\n",
        "    X,Y,\n",
        "    epochs = EPOCHS, verbose=0,\n",
        "    callbacks = [tfdocs.modeling.EpochDots()]\n",
        ")"
      ],
      "execution_count": 21,
      "outputs": [
        {
          "output_type": "stream",
          "text": [
            "\n",
            "Epoch: 0, loss:11.5133,  mae:2.5364,  mse:11.5133,  \n",
            "....................................................................................................\n",
            "Epoch: 100, loss:11.0333,  mae:2.6298,  mse:11.0333,  \n",
            "....................................................................................................\n",
            "Epoch: 200, loss:10.3559,  mae:2.4020,  mse:10.3559,  \n",
            "....................................................................................................\n",
            "Epoch: 300, loss:10.6064,  mae:2.3670,  mse:10.6064,  \n",
            "....................................................................................................\n",
            "Epoch: 400, loss:6.8657,  mae:1.9875,  mse:6.8657,  \n",
            "....................................................................................................\n",
            "Epoch: 500, loss:8.9013,  mae:2.3454,  mse:8.9013,  \n",
            "....................................................................................................\n",
            "Epoch: 600, loss:6.1812,  mae:1.8530,  mse:6.1812,  \n",
            "....................................................................................................\n",
            "Epoch: 700, loss:6.6091,  mae:2.0985,  mse:6.6091,  \n",
            "....................................................................................................\n",
            "Epoch: 800, loss:5.3103,  mae:1.6626,  mse:5.3103,  \n",
            "....................................................................................................\n",
            "Epoch: 900, loss:5.7957,  mae:1.8243,  mse:5.7957,  \n",
            "...................................................................................................."
          ],
          "name": "stdout"
        }
      ]
    },
    {
      "cell_type": "markdown",
      "metadata": {
        "id": "CfyR3dhxP5xY",
        "colab_type": "text"
      },
      "source": [
        "**Grafica de valores reales contra prediccion "
      ]
    },
    {
      "cell_type": "code",
      "metadata": {
        "id": "pNZj0RBUP5ZD",
        "colab_type": "code",
        "colab": {
          "base_uri": "https://localhost:8080/",
          "height": 279
        },
        "outputId": "668998df-714a-4d5a-be25-172107de22e2"
      },
      "source": [
        "import matplotlib.pyplot as plt\n",
        "test_predictions = model.predict(X).flatten()\n",
        "a = plt.axes(aspect='equal')\n",
        "plt.scatter(Y,test_predictions)\n",
        "plt.xlabel('X')\n",
        "plt.ylabel('Y')\n",
        "_=plt.plot(Y,Y,color='green')"
      ],
      "execution_count": 22,
      "outputs": [
        {
          "output_type": "display_data",
          "data": {
            "image/png": "[encoded data removed]",
            "text/plain": [
              "<Figure size 432x288 with 1 Axes>"
            ]
          },
          "metadata": {
            "tags": [],
            "needs_background": "light"
          }
        }
      ]
    },
    {
      "cell_type": "markdown",
      "metadata": {
        "id": "Pcf1OL3rQAWg",
        "colab_type": "text"
      },
      "source": [
        "**Probar la prediccion con un valor de X1,X2**"
      ]
    },
    {
      "cell_type": "code",
      "metadata": {
        "id": "EDJpiZ2fQF_n",
        "colab_type": "code",
        "colab": {
          "base_uri": "https://localhost:8080/",
          "height": 35
        },
        "outputId": "e72dc5a4-1149-4c64-8741-5b107d2d0682"
      },
      "source": [
        "import numpy as np\n",
        "model.predict(np.array([[4,150]]))"
      ],
      "execution_count": 24,
      "outputs": [
        {
          "output_type": "execute_result",
          "data": {
            "text/plain": [
              "array([[9.819583]], dtype=float32)"
            ]
          },
          "metadata": {
            "tags": []
          },
          "execution_count": 24
        }
      ]
    }
  ]
}