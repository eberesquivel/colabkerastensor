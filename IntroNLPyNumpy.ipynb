{
  "nbformat": 4,
  "nbformat_minor": 0,
  "metadata": {
    "colab": {
      "name": "IntroNLP.ipynb",
      "provenance": [],
      "authorship_tag": "ABX9TyPyRY4nIPtawOEpA9t7Y1HS",
      "include_colab_link": true
    },
    "kernelspec": {
      "name": "python3",
      "display_name": "Python 3"
    }
  },
  "cells": [
    {
      "cell_type": "markdown",
      "metadata": {
        "id": "view-in-github",
        "colab_type": "text"
      },
      "source": [
        "<a href=\"https://colab.research.google.com/github/eberesquivel/colabkerastensor/blob/master/IntroNLPyNumpy.ipynb\" target=\"_parent\"><img src=\"https://colab.research.google.com/assets/colab-badge.svg\" alt=\"Open In Colab\"/></a>"
      ]
    },
    {
      "cell_type": "code",
      "metadata": {
        "id": "7FYQveakkfnb",
        "colab_type": "code",
        "colab": {
          "base_uri": "https://localhost:8080/",
          "height": 35
        },
        "outputId": "80de1b10-cd03-4a20-c6a0-8888d051ca3e"
      },
      "source": [
        "## Numpy\n",
        "import numpy as np # Importing the Numpy package\n",
        "a= np.array([1,4,5,8], float) # Creating Numpy array with Float variables\n",
        "\n",
        "print(type(a)) #Type of variable"
      ],
      "execution_count": null,
      "outputs": [
        {
          "output_type": "stream",
          "text": [
            "<class 'numpy.ndarray'>\n"
          ],
          "name": "stdout"
        }
      ]
    },
    {
      "cell_type": "code",
      "metadata": {
        "id": "X-MTxvnllvmw",
        "colab_type": "code",
        "colab": {
          "base_uri": "https://localhost:8080/",
          "height": 35
        },
        "outputId": "512f24a8-2b89-4d28-a776-2c099c91654c"
      },
      "source": [
        "# Operations on the array\n",
        "a[0] = 5 #Replacing the first element of the array\n",
        "print(a)"
      ],
      "execution_count": null,
      "outputs": [
        {
          "output_type": "stream",
          "text": [
            "[5. 4. 5. 8.]\n"
          ],
          "name": "stdout"
        }
      ]
    },
    {
      "cell_type": "code",
      "metadata": {
        "id": "vGnTAMgOmcDK",
        "colab_type": "code",
        "colab": {
          "base_uri": "https://localhost:8080/",
          "height": 35
        },
        "outputId": "f1f92d60-05fe-49a8-e663-95c8ed700dfb"
      },
      "source": [
        "b = np.array([[1,2,3],[4,5,6]], float) # Creating a 2-D numpy array\n",
        "\n",
        "b[0,1] # Fetching second element of 1st array"
      ],
      "execution_count": null,
      "outputs": [
        {
          "output_type": "execute_result",
          "data": {
            "text/plain": [
              "2.0"
            ]
          },
          "metadata": {
            "tags": []
          },
          "execution_count": 5
        }
      ]
    },
    {
      "cell_type": "code",
      "metadata": {
        "id": "BNW3M7sZmmPK",
        "colab_type": "code",
        "colab": {
          "base_uri": "https://localhost:8080/",
          "height": 35
        },
        "outputId": "75eb453f-b297-4129-be11-9372b2a32f15"
      },
      "source": [
        "print(b.shape) #Returns tuple with the shape of array"
      ],
      "execution_count": null,
      "outputs": [
        {
          "output_type": "stream",
          "text": [
            "(2, 3)\n"
          ],
          "name": "stdout"
        }
      ]
    },
    {
      "cell_type": "code",
      "metadata": {
        "id": "kPVSpeQKmrsZ",
        "colab_type": "code",
        "colab": {
          "base_uri": "https://localhost:8080/",
          "height": 35
        },
        "outputId": "3818fc04-2c30-4b23-865d-d0d578ce86b3"
      },
      "source": [
        "b.dtype #Returns the type of the value stored"
      ],
      "execution_count": null,
      "outputs": [
        {
          "output_type": "execute_result",
          "data": {
            "text/plain": [
              "dtype('float64')"
            ]
          },
          "metadata": {
            "tags": []
          },
          "execution_count": 7
        }
      ]
    },
    {
      "cell_type": "code",
      "metadata": {
        "id": "zsRxJGghmu9w",
        "colab_type": "code",
        "colab": {
          "base_uri": "https://localhost:8080/",
          "height": 35
        },
        "outputId": "4a72d13e-a198-4f6b-a14a-157b44e04e8a"
      },
      "source": [
        "print(len(b)) #Returns length of the first axis"
      ],
      "execution_count": null,
      "outputs": [
        {
          "output_type": "stream",
          "text": [
            "2\n"
          ],
          "name": "stdout"
        }
      ]
    },
    {
      "cell_type": "code",
      "metadata": {
        "id": "vbGy90f4m2YX",
        "colab_type": "code",
        "colab": {
          "base_uri": "https://localhost:8080/",
          "height": 35
        },
        "outputId": "f09d14fd-a5d5-495a-a6e4-8b072e965b65"
      },
      "source": [
        "2 in b #'in' searches for the element in the array"
      ],
      "execution_count": null,
      "outputs": [
        {
          "output_type": "execute_result",
          "data": {
            "text/plain": [
              "True"
            ]
          },
          "metadata": {
            "tags": []
          },
          "execution_count": 9
        }
      ]
    },
    {
      "cell_type": "code",
      "metadata": {
        "id": "TO3a-1Nmm56n",
        "colab_type": "code",
        "colab": {
          "base_uri": "https://localhost:8080/",
          "height": 35
        },
        "outputId": "d64e0ba4-2477-44a7-ca4f-e94a9ae0bcd8"
      },
      "source": [
        "0 in b\n"
      ],
      "execution_count": null,
      "outputs": [
        {
          "output_type": "execute_result",
          "data": {
            "text/plain": [
              "False"
            ]
          },
          "metadata": {
            "tags": []
          },
          "execution_count": 10
        }
      ]
    },
    {
      "cell_type": "markdown",
      "metadata": {
        "id": "S1F0UMHfnNXE",
        "colab_type": "text"
      },
      "source": [
        "# Use of 'reshape' : transforms elements from 1-D to 2-D here"
      ]
    },
    {
      "cell_type": "code",
      "metadata": {
        "id": "wig14xtGnPRZ",
        "colab_type": "code",
        "colab": {
          "base_uri": "https://localhost:8080/",
          "height": 128
        },
        "outputId": "b9554948-98c6-43fe-9da1-191b17e09414"
      },
      "source": [
        "c = np.array(range(12), float)\n",
        "print(c)\n",
        "print(c.shape)\n",
        "print('---')\n",
        "c = c.reshape((2,6)) # reshape the array in the new form\n",
        "print(c)\n",
        "print(c.shape)"
      ],
      "execution_count": null,
      "outputs": [
        {
          "output_type": "stream",
          "text": [
            "[ 0.  1.  2.  3.  4.  5.  6.  7.  8.  9. 10. 11.]\n",
            "(12,)\n",
            "---\n",
            "[[ 0.  1.  2.  3.  4.  5.]\n",
            " [ 6.  7.  8.  9. 10. 11.]]\n",
            "(2, 6)\n"
          ],
          "name": "stdout"
        }
      ]
    },
    {
      "cell_type": "code",
      "metadata": {
        "id": "xsyF0_dTnhdx",
        "colab_type": "code",
        "colab": {
          "base_uri": "https://localhost:8080/",
          "height": 54
        },
        "outputId": "6d20f5c5-6ca9-431a-dd74-54295c8169ea"
      },
      "source": [
        "c.fill(0) #Fills whole array with single value,done inplace\n",
        "print(c)"
      ],
      "execution_count": null,
      "outputs": [
        {
          "output_type": "stream",
          "text": [
            "[[0. 0. 0. 0. 0. 0.]\n",
            " [0. 0. 0. 0. 0. 0.]]\n"
          ],
          "name": "stdout"
        }
      ]
    },
    {
      "cell_type": "code",
      "metadata": {
        "id": "zbCDdVQQnuHE",
        "colab_type": "code",
        "colab": {
          "base_uri": "https://localhost:8080/",
          "height": 128
        },
        "outputId": "4f217bdb-82c6-431f-e6ca-e4873bb6967c"
      },
      "source": [
        "c.transpose() #creates transpose of the array, not done inplace"
      ],
      "execution_count": null,
      "outputs": [
        {
          "output_type": "execute_result",
          "data": {
            "text/plain": [
              "array([[0., 0.],\n",
              "       [0., 0.],\n",
              "       [0., 0.],\n",
              "       [0., 0.],\n",
              "       [0., 0.],\n",
              "       [0., 0.]])"
            ]
          },
          "metadata": {
            "tags": []
          },
          "execution_count": 13
        }
      ]
    },
    {
      "cell_type": "code",
      "metadata": {
        "id": "UnJ-xZ2fn63w",
        "colab_type": "code",
        "colab": {
          "base_uri": "https://localhost:8080/",
          "height": 35
        },
        "outputId": "6c67a2b9-9084-467e-a9a5-8427e0fb3a0f"
      },
      "source": [
        "c.flatten() #flattens the whole array, not done inplace"
      ],
      "execution_count": null,
      "outputs": [
        {
          "output_type": "execute_result",
          "data": {
            "text/plain": [
              "array([0., 0., 0., 0., 0., 0., 0., 0., 0., 0., 0., 0.])"
            ]
          },
          "metadata": {
            "tags": []
          },
          "execution_count": 14
        }
      ]
    },
    {
      "cell_type": "markdown",
      "metadata": {
        "id": "HT9NHkcZoDsj",
        "colab_type": "text"
      },
      "source": [
        "\n",
        "#Concatenando 2 o mas arreglos"
      ]
    },
    {
      "cell_type": "code",
      "metadata": {
        "id": "CQbQWpVGoJJE",
        "colab_type": "code",
        "colab": {
          "base_uri": "https://localhost:8080/",
          "height": 35
        },
        "outputId": "8675efa0-a917-45df-8b41-7ee24e6bf376"
      },
      "source": [
        "m = np.array([1,2], float)\n",
        "n = np.array([3,4,5,6], float)\n",
        "p = np.concatenate((m,n))\n",
        "print(p)\n"
      ],
      "execution_count": null,
      "outputs": [
        {
          "output_type": "stream",
          "text": [
            "[1. 2. 3. 4. 5. 6.]\n"
          ],
          "name": "stdout"
        }
      ]
    },
    {
      "cell_type": "code",
      "metadata": {
        "id": "_7mqNLyBoYkf",
        "colab_type": "code",
        "colab": {
          "base_uri": "https://localhost:8080/",
          "height": 54
        },
        "outputId": "0ea62859-953a-49d9-bb4b-e7836710dae3"
      },
      "source": [
        "\n",
        "print(p.shape)\n",
        "# 'newaxis' : to increase the dimensonality of the array\n",
        "q = np.array([1,2,3], float)\n",
        "q[:, np.newaxis].shape\n"
      ],
      "execution_count": null,
      "outputs": [
        {
          "output_type": "stream",
          "text": [
            "(6,)\n"
          ],
          "name": "stdout"
        },
        {
          "output_type": "execute_result",
          "data": {
            "text/plain": [
              "(3, 1)"
            ]
          },
          "metadata": {
            "tags": []
          },
          "execution_count": 21
        }
      ]
    },
    {
      "cell_type": "markdown",
      "metadata": {
        "id": "ACcmP45rstxc",
        "colab_type": "text"
      },
      "source": [
        "NumPy cuenta con otras funciones, como son zeros, ones, zeros_like, ones_\n",
        "like, identity, eye,las cuales se usan para crear arreglos llenos de zeros y 1s, o 0s y 1s para las dimensiones asignadas.\n",
        "La suma, la resta y la multiplicación ocurren en matrices del mismo tamaño.\n",
        "La multiplicación en NumPy se ofrece como elemento y no como matriz\n",
        "multiplicación. Si las matrices no coinciden en tamaño, la más pequeña es\n",
        "repetida para realizar la operación deseada. El siguiente es un ejemplo de esto:"
      ]
    },
    {
      "cell_type": "code",
      "metadata": {
        "id": "enEFKQFYtmeG",
        "colab_type": "code",
        "colab": {
          "base_uri": "https://localhost:8080/",
          "height": 72
        },
        "outputId": "4ef29ccd-b9e0-4ea0-e138-f2dcd7c068d1"
      },
      "source": [
        "a1 = np.array([[1,2],[3,4],[5,6]], float)\n",
        "a2 = np.array([-1,3], float)\n",
        "print(a1+a2)\n"
      ],
      "execution_count": null,
      "outputs": [
        {
          "output_type": "stream",
          "text": [
            "[[0. 5.]\n",
            " [2. 7.]\n",
            " [4. 9.]]\n"
          ],
          "name": "stdout"
        }
      ]
    },
    {
      "cell_type": "markdown",
      "metadata": {
        "id": "eawkC1MfxwVI",
        "colab_type": "text"
      },
      "source": [
        "Note pi and e are included as constants in the NumPy package.\n",
        "One can refer to the following sources for detailed tutorials on NumPy:\n",
        "www.numpy.org/ and https://docs.scipy.org/doc/numpy-dev/user/\n",
        "quickstart.html.\n",
        "NumPy offers few of the functions that are directly applicable on the\n",
        "arrays: sum (summation of elements), prod (product of the elements), mean\n",
        "(mean of the elements), var (variance of the elements), std (standard\n",
        "deviation of the elements), argmin (index of the smallest element in array),\n",
        "argmax (index of the largest element in array), sort (sort the elements),\n",
        "unique (unique elements of the array).\n"
      ]
    },
    {
      "cell_type": "code",
      "metadata": {
        "id": "P4caI40HxzFQ",
        "colab_type": "code",
        "colab": {
          "base_uri": "https://localhost:8080/",
          "height": 35
        },
        "outputId": "0ba4ea03-32e5-48a8-a71c-5d0f95456bf0"
      },
      "source": [
        "a3 = np.array([[0,2],[3,-1],[3,5]], float)\n",
        "print(a3.mean(axis=0)) # Mean of elements column-wise"
      ],
      "execution_count": null,
      "outputs": [
        {
          "output_type": "stream",
          "text": [
            "[2. 2.]\n"
          ],
          "name": "stdout"
        }
      ]
    },
    {
      "cell_type": "code",
      "metadata": {
        "id": "ndC-R4SlyLf_",
        "colab_type": "code",
        "colab": {
          "base_uri": "https://localhost:8080/",
          "height": 35
        },
        "outputId": "770b5a4c-25ae-4323-cfb7-8305c9653e08"
      },
      "source": [
        "print(a3.mean(axis=1)) # Mean of elements row-wise"
      ],
      "execution_count": null,
      "outputs": [
        {
          "output_type": "stream",
          "text": [
            "[1. 1. 4.]\n"
          ],
          "name": "stdout"
        }
      ]
    },
    {
      "cell_type": "markdown",
      "metadata": {
        "id": "n-Ll2GR1Iq4G",
        "colab_type": "text"
      },
      "source": [
        "Note To perform the preceding operations on a multidimensional\n",
        "array, include the optional argument axis in the command.\n",
        "NumPy offers functions for testing the values present in the array,\n",
        "such as nonzero (checks for nonzero elements), isnan (checks for “not\n",
        "a number” elements), and isfinite (checks for finite elements). The\n",
        "where function returns an array with the elements satisfying the following\n",
        "conditions:"
      ]
    },
    {
      "cell_type": "code",
      "metadata": {
        "id": "9rZWVl13IttI",
        "colab_type": "code",
        "colab": {
          "base_uri": "https://localhost:8080/",
          "height": 35
        },
        "outputId": "2bceac9f-63e1-4952-fde5-370374ac6d67"
      },
      "source": [
        "a4 = np.array([1,3,0], float)\n",
        "np.where(a!=0, 1/a ,a)"
      ],
      "execution_count": null,
      "outputs": [
        {
          "output_type": "execute_result",
          "data": {
            "text/plain": [
              "array([0.2  , 0.25 , 0.2  , 0.125])"
            ]
          },
          "metadata": {
            "tags": []
          },
          "execution_count": 27
        }
      ]
    },
    {
      "cell_type": "markdown",
      "metadata": {
        "id": "qsrAOmg_I287",
        "colab_type": "text"
      },
      "source": [
        "To generate random numbers of varied length, use the random\n",
        "function from NumPy."
      ]
    },
    {
      "cell_type": "code",
      "metadata": {
        "id": "Z994xqTLI6Bk",
        "colab_type": "code",
        "colab": {
          "base_uri": "https://localhost:8080/",
          "height": 54
        },
        "outputId": "94f97a39-65a2-4dbb-9d0a-1f8092445c3a"
      },
      "source": [
        "np.random.rand(2,3)\n"
      ],
      "execution_count": null,
      "outputs": [
        {
          "output_type": "execute_result",
          "data": {
            "text/plain": [
              "array([[0.4485339 , 0.84271217, 0.7710416 ],\n",
              "       [0.89455831, 0.79791952, 0.22290105]])"
            ]
          },
          "metadata": {
            "tags": []
          },
          "execution_count": 29
        }
      ]
    },
    {
      "cell_type": "markdown",
      "metadata": {
        "id": "AXJJ7Ia7J1Nr",
        "colab_type": "text"
      },
      "source": [
        "Note The random number seed can be set via numpy.random.\n",
        "seed (1234). NumPy uses the Mersenne Twister algorithm to\n",
        "generate pseudorandom numbers."
      ]
    }
  ]
}